{
 "cells": [
  {
   "cell_type": "markdown",
   "id": "55255992",
   "metadata": {},
   "source": [
    "# Sutton 1988 Experiment Replication"
   ]
  },
  {
   "cell_type": "markdown",
   "id": "90db46ab",
   "metadata": {},
   "source": [
    "### RandomWalk() creates the Random Walk sequences used for the experiment"
   ]
  },
  {
   "cell_type": "code",
   "execution_count": 1,
   "id": "6f80ce07",
   "metadata": {
    "scrolled": true
   },
   "outputs": [],
   "source": [
    "\n",
    "# Used to Generate Random Walk game\n",
    "import matplotlib.pyplot as plt \n",
    "import numpy as np\n",
    "import math\n",
    "\n",
    "class RandomWalk(object):\n",
    "\n",
    "    def __init__(self):\n",
    "        self.position = 2\n",
    "        self.letter_position = chr(self.position+66)\n",
    "        self.value = 0\n",
    "        self.prob = 0.5\n",
    "        \n",
    "        self.GAME_END = \"PLAY\"\n",
    "        self.actions = ['left','right']\n",
    "        \n",
    "        self.game_state = [] \n",
    "        self.game_state.append([0,0,1,0,0])\n",
    "        \n",
    "        self.action_list = []\n",
    "        self.action_list.append(\"start\")\n",
    "        \n",
    "        self.numeric_sequence_list = []\n",
    "        self.numeric_sequence_list.append(self.position)\n",
    "        \n",
    "        self.sequence_list = []\n",
    "        self.sequence_list.append(self.letter_position)\n",
    "        \n",
    "        self.rewards_list = []\n",
    "        self.reward = 0\n",
    "        \n",
    "        self.training_sets = []\n",
    "        pass\n",
    "    \n",
    "    # Generates random walk action  \n",
    "    def generate_action(self):\n",
    "        return np.random.choice(self.actions,p=[self.prob,1-self.prob])\n",
    "\n",
    "    # Applies random walk action and updates game functions\n",
    "    def take_action(self):\n",
    "        self.action = RandomWalk.generate_action(self)\n",
    "        self.action_list.append(self.action)\n",
    "        \n",
    "        if self.action == 'left':\n",
    "            self.position = self.position-1\n",
    "            self.letter_position = chr(self.position+66)\n",
    "            self.sequence_list.append(self.letter_position)\n",
    "            self.numeric_sequence_list.append(self.position)\n",
    "        \n",
    "        elif self.action == 'right':\n",
    "            self.position = self.position+1\n",
    "            self.letter_position = chr(self.position+66)\n",
    "            self.sequence_list.append(self.letter_position)\n",
    "            self.numeric_sequence_list.append(self.position)\n",
    "           \n",
    "    # produces unit vector for respective state  \n",
    "    def value_state(self):\n",
    "        self.state = []\n",
    "        for i in range(5):\n",
    "            if i == self.position:\n",
    "                self.state.append(1)\n",
    "            \n",
    "            else:\n",
    "                self.state.append(0)\n",
    "                \n",
    "    # updates game state        \n",
    "    def update_state(self):\n",
    "        RandomWalk.game_state(self)\n",
    "        RandomWalk.value_state(self)\n",
    "        \n",
    "        if self.letter_position == 'A':\n",
    "            return 0     \n",
    "        \n",
    "        elif self.letter_position == 'G':\n",
    "            return 1     \n",
    "        \n",
    "        else:\n",
    "            return self.state    \n",
    "           \n",
    "    # evaluates games state    \n",
    "    def game_state(self):\n",
    "        if self.position < 0:\n",
    "            self.GAME_END = \"WORSE_END\"\n",
    "            self.rewards_list.append(0)\n",
    "            self.reward = 0\n",
    "            \n",
    "        elif self.position >4:\n",
    "            self.GAME_END = \"OPTIMAL_END\"\n",
    "            self.rewards_list.append(1)\n",
    "            self.reward = 1\n",
    "            \n",
    "        else:\n",
    "            self.rewards_list.append(0)\n",
    "            self.reward = 0\n",
    "    \n",
    "    \n",
    "    def play_game(self):\n",
    "        while self.GAME_END == 'PLAY':\n",
    "            RandomWalk.take_action(self)\n",
    "            self.game_state.append(RandomWalk.update_state(self))\n",
    "        return self.game_state    #,self.sequence_list,self.action_list,self.numeric_sequence_list\n",
    "    "
   ]
  },
  {
   "cell_type": "markdown",
   "id": "9320166f",
   "metadata": {},
   "source": [
    "### DataBuild() builds the dataset for our experimentation"
   ]
  },
  {
   "cell_type": "code",
   "execution_count": 2,
   "id": "e234df16",
   "metadata": {
    "scrolled": false
   },
   "outputs": [],
   "source": [
    "class DataBuild(object):\n",
    "    \n",
    "    def __init__(self):\n",
    "        self.agent = RandomWalk()\n",
    "        pass\n",
    "    \n",
    "    \n",
    "    def reset_agent(self):\n",
    "        self.agent = RandomWalk()\n",
    "        \n",
    "    #creates a (100x10xn) training dataset \n",
    "    def create_training_sets(self):\n",
    "        training_sets = []\n",
    "        for i in range(100):\n",
    "            run_set = []\n",
    "            for j in range(10):\n",
    "                self.agent = RandomWalk()\n",
    "                run_set.append(self.agent.play_game())\n",
    "            training_sets.append(run_set)\n",
    "        return training_sets\n",
    "    \n",
    "    #creates (100x5) weights list\n",
    "    def create_weights(self):\n",
    "        weights = []\n",
    "        for i in range(100):\n",
    "            weights.append([0.1,0.2,0.3,0.4,0.5])\n",
    "        return weights\n"
   ]
  },
  {
   "cell_type": "markdown",
   "id": "757c3fd8",
   "metadata": {},
   "source": [
    "### Functions used to calculate our weighted updates"
   ]
  },
  {
   "cell_type": "code",
   "execution_count": 3,
   "id": "ad8d562c",
   "metadata": {},
   "outputs": [],
   "source": [
    "# Used to calculate the sum of all past values for delta_weights\n",
    "def delta_sum(s,r,l):\n",
    "        gradient_w = np.array([0,0,0,0,0])\n",
    "\n",
    "        for i in range(len(s)):\n",
    "            past_discount_value = np.array([(l**(r-i-1))])*s[i]\n",
    "            gradient_w = np.add(gradient_w,past_discount_value)\n",
    "        return gradient_w\n",
    "\n",
    "# Sums list of weights\n",
    "def sum_weights(d_list):\n",
    "        data = d_list.copy()\n",
    "\n",
    "        summati = [0,0,0,0,0]\n",
    "    \n",
    "        for i in range(len(data)):\n",
    "            summati = np.add(np.array(summati),np.array(data[i]))\n",
    "\n",
    "        return summati\n",
    "\n",
    "#Used to calculated delta_w\n",
    "def calc_delta_(set_weight_,sequence_i,lam,alpha):\n",
    "        run = 1\n",
    "        sequence_run = []\n",
    "        delta_weights_list = []\n",
    "        set_weight_ = np.array(set_weight_)\n",
    "        \n",
    "        for state in range(len(sequence_i)-1):\n",
    "            sequence_run.append(sequence_i[state])\n",
    "            \n",
    "            #used to calculate difference of temporally successive steps\n",
    "            if state == len(sequence_i)-2:\n",
    "                parts = alpha*(sequence_i[state+1]-set_weight_.dot(np.array(sequence_i[state]).T))\n",
    "                \n",
    "            else:\n",
    "                parts = alpha*(set_weight_.dot(np.array(sequence_i[state+1]).T)-set_weight_.dot(np.array(sequence_i[state]).T))\n",
    "             \n",
    "            #calculates the discounted sum of all past predictions\n",
    "            second_part = delta_sum(sequence_run,run,lam)\n",
    "             \n",
    "            delta_weights = parts*second_part \n",
    "            run += 1\n",
    "        \n",
    "            delta_weights_list.append(delta_weights) \n",
    "        \n",
    "        delta = sum_weights(delta_weights_list)\n",
    "        return delta"
   ]
  },
  {
   "cell_type": "markdown",
   "id": "eac34fff",
   "metadata": {},
   "source": [
    "## Generate Datasets"
   ]
  },
  {
   "cell_type": "code",
   "execution_count": 4,
   "id": "b02c326f",
   "metadata": {},
   "outputs": [
    {
     "name": "stdout",
     "output_type": "stream",
     "text": [
      "Dataset Shape:  (100, 10)\n",
      "\n",
      "Weights Shape:  (100, 5)\n",
      "\n"
     ]
    },
    {
     "name": "stderr",
     "output_type": "stream",
     "text": [
      "C:\\Users\\Jan Ramos\\AppData\\Local\\Temp\\ipykernel_18996\\2059140979.py:2: VisibleDeprecationWarning: Creating an ndarray from ragged nested sequences (which is a list-or-tuple of lists-or-tuples-or ndarrays with different lengths or shapes) is deprecated. If you meant to do this, you must specify 'dtype=object' when creating the ndarray.\n",
      "  print('Dataset Shape: ',np.array(dataset).shape)\n"
     ]
    }
   ],
   "source": [
    "dataset = DataBuild().create_training_sets()\n",
    "print('Dataset Shape: ',np.array(dataset).shape)\n",
    "print()\n",
    "\n",
    "weights = DataBuild().create_weights()\n",
    "print('Weights Shape: ',np.array(weights).shape)\n",
    "print()"
   ]
  },
  {
   "cell_type": "markdown",
   "id": "8ca43795",
   "metadata": {},
   "source": [
    "## Figure 3 - Experiment"
   ]
  },
  {
   "cell_type": "code",
   "execution_count": 5,
   "id": "17d6997e",
   "metadata": {},
   "outputs": [],
   "source": [
    "#used to generate Figure 3\n",
    "\n",
    "RMS = []\n",
    "for lam in [0,0.1,0.3,0.5,0.7,0.9,1]:\n",
    "    dataset_error = []\n",
    "     \n",
    "    for training_set in dataset:\n",
    "        weights =  [0.1,0.2,0.3,0.4,0.5] #resets weights\n",
    "        while True:\n",
    "            output=[]\n",
    "            for sequence in training_set:\n",
    "                 output.append(calc_delta_(weights,sequence,lam,0.01)) #calc delta\n",
    "            current_delta = sum_weights(output) #accumulate delta\n",
    "            \n",
    "            difference = np.linalg.norm(current_delta)\n",
    "            \n",
    "            if difference <  0.001: \n",
    "                break\n",
    "            else:\n",
    "                weights = np.add(weights,current_delta) #update step\n",
    "                \n",
    "                \n",
    "        error = np.sqrt(((np.array(weights)-np.array([1/6,2/6,3/6,4/6,5/6]))**2).mean())\n",
    "        dataset_error.append(error)\n",
    "  \n",
    "    RMS.append(np.mean(dataset_error))"
   ]
  },
  {
   "cell_type": "markdown",
   "id": "81db6534",
   "metadata": {},
   "source": [
    "## Figure 3 - Plot"
   ]
  },
  {
   "cell_type": "code",
   "execution_count": 6,
   "id": "3789208f",
   "metadata": {},
   "outputs": [
    {
     "data": {
      "text/plain": [
       "Text(0.5, 1.0, 'Figure 3')"
      ]
     },
     "execution_count": 6,
     "metadata": {},
     "output_type": "execute_result"
    },
    {
     "data": {
      "image/png": "[encoded data removed]",
      "text/plain": [
       "<Figure size 640x480 with 1 Axes>"
      ]
     },
     "metadata": {},
     "output_type": "display_data"
    }
   ],
   "source": [
    "plt.plot([0,0.1,0.3,0.5,0.7,0.9,1],RMS,marker='o')\n",
    "plt.xlabel('λ')\n",
    "plt.ylabel('Error')\n",
    "plt.title('Figure 3')"
   ]
  },
  {
   "cell_type": "markdown",
   "id": "d7712c10",
   "metadata": {},
   "source": [
    "## Figure 4 - Experiment"
   ]
  },
  {
   "cell_type": "code",
   "execution_count": 7,
   "id": "c07b495b",
   "metadata": {},
   "outputs": [],
   "source": [
    "#used to generate Figure 4\n",
    "\n",
    "alphas = [0,0.05,0.1,0.15,0.2,0.25,0.3,0.35,0.4,0.45,0.5,0.55,0.6]\n",
    "alpha_RMS = []\n",
    "for lam in [0,0.3,0.8,1]:\n",
    "     \n",
    "    RMS = []\n",
    "    for alpha in alphas:\n",
    "        training_set_error = []\n",
    "        \n",
    "        for training_set in dataset:\n",
    "            weights = np.array([0.5,0.5,0.5,0.5,0.5]) #resets weights\n",
    "            for sequence in training_set:\n",
    "                weights = np.add(weights,calc_delta_(weights,sequence,lam,alpha)) #calc delta and update step\n",
    "            error = np.sqrt(((np.array(weights)-np.array([1/6,2/6,3/6,4/6,5/6]))**2).mean())\n",
    "            training_set_error.append(error)\n",
    "        RMS.append(np.mean(training_set_error))\n",
    "    alpha_RMS.append(RMS)"
   ]
  },
  {
   "cell_type": "markdown",
   "id": "025b11c5",
   "metadata": {},
   "source": [
    "## Figure 4 - Plot"
   ]
  },
  {
   "cell_type": "code",
   "execution_count": 8,
   "id": "ae2901d7",
   "metadata": {},
   "outputs": [
    {
     "data": {
      "text/plain": [
       "Text(0, 0.5, 'Error')"
      ]
     },
     "execution_count": 8,
     "metadata": {},
     "output_type": "execute_result"
    },
    {
     "data": {
      "image/png": "[encoded data removed]",
      "text/plain": [
       "<Figure size 640x480 with 1 Axes>"
      ]
     },
     "metadata": {},
     "output_type": "display_data"
    }
   ],
   "source": [
    "plt.figure()\n",
    "plt.xticks(np.arange(0, 1, step=0.2))\n",
    "plt.plot(alphas[:10],alpha_RMS[0][:10],marker='o')\n",
    "plt.plot(alphas[:10],alpha_RMS[1][:10],marker='o')\n",
    "plt.plot(alphas[:10],alpha_RMS[2][:10],marker='o')\n",
    "plt.plot(alphas[:10],alpha_RMS[3][:10],marker='o')\n",
    "plt.legend([0.0,0.3,0.8,1])\n",
    "plt.title('Figure 4')\n",
    "plt.xlabel('α')\n",
    "plt.ylabel('Error')"
   ]
  },
  {
   "cell_type": "markdown",
   "id": "c9b48b2d",
   "metadata": {},
   "source": [
    "## Figure 5 - Experiment"
   ]
  },
  {
   "cell_type": "code",
   "execution_count": 9,
   "id": "1b989552",
   "metadata": {
    "scrolled": true
   },
   "outputs": [],
   "source": [
    "#used to generate Figure 5\n",
    "\n",
    "alphas = [0,0.05,0.1,0.15,0.2,0.25,0.3,0.35,0.4,0.45,0.5,0.55,0.6]\n",
    "alpha_RMS = []\n",
    "for lam in [0,0.1,0.2,0.3,0.4,0.5,0.6,0.7,0.8,0.9,1]:\n",
    "     \n",
    "    RMS = []\n",
    "    \n",
    "    for alpha in alphas:\n",
    "        training_set_error = []\n",
    "        \n",
    "        for training_set in dataset:\n",
    "            weights = np.array([0.5,0.5,0.5,0.5,0.5]) #resets weights\n",
    "            for sequence in training_set:\n",
    "                weights = np.add(weights,calc_delta_(weights,sequence,lam,alpha)) #calc delta and update step\n",
    "            error = np.sqrt(((np.array(weights)-np.array([1/6,2/6,3/6,4/6,5/6]))**2).mean())\n",
    "            training_set_error.append(error)\n",
    "        RMS.append(np.mean(training_set_error))\n",
    "    alpha_RMS.append(RMS)\n",
    "\n"
   ]
  },
  {
   "cell_type": "markdown",
   "id": "7d683aec",
   "metadata": {},
   "source": [
    "## Figure 5 - Plot"
   ]
  },
  {
   "cell_type": "code",
   "execution_count": 10,
   "id": "3670206a",
   "metadata": {},
   "outputs": [
    {
     "name": "stdout",
     "output_type": "stream",
     "text": [
      "Lambda: 0 | Optimal Weight: 0.2 | Minimum: 0.08553610808083537\n",
      "Lambda: 0.1 | Optimal Weight: 0.2 | Minimum: 0.08360598864504754\n",
      "Lambda: 0.2 | Optimal Weight: 0.2 | Minimum: 0.08288042057217464\n",
      "Lambda: 0.3 | Optimal Weight: 0.2 | Minimum: 0.0836019851084696\n",
      "Lambda: 0.4 | Optimal Weight: 0.2 | Minimum: 0.0861276185278151\n",
      "Lambda: 0.5 | Optimal Weight: 0.15 | Minimum: 0.0906801837871021\n",
      "Lambda: 0.6 | Optimal Weight: 0.15 | Minimum: 0.0938325779414368\n",
      "Lambda: 0.7 | Optimal Weight: 0.15 | Minimum: 0.10109018705463785\n",
      "Lambda: 0.8 | Optimal Weight: 0.15 | Minimum: 0.11501491188072789\n",
      "Lambda: 0.9 | Optimal Weight: 0.1 | Minimum: 0.1298586439781119\n",
      "Lambda: 1 | Optimal Weight: 0.05 | Minimum: 0.16731579604848984\n"
     ]
    },
    {
     "data": {
      "text/plain": [
       "Text(0, 0.5, 'Error')"
      ]
     },
     "execution_count": 10,
     "metadata": {},
     "output_type": "execute_result"
    },
    {
     "data": {
      "image/png": "[encoded data removed]",
      "text/plain": [
       "<Figure size 640x480 with 1 Axes>"
      ]
     },
     "metadata": {},
     "output_type": "display_data"
    }
   ],
   "source": [
    "optimal_weights = []\n",
    "alpha_list = []\n",
    "lams = [0,0.1,0.2,0.3,0.4,0.5,0.6,0.7,0.8,0.9,1]\n",
    "alphas = [0,0.05,0.1,0.15,0.2,0.25,0.3,0.35,0.4,0.45,0.5,0.55,0.6]\n",
    "i=0\n",
    "for lambda_ in alpha_RMS:\n",
    "    index = np.argmin(lambda_)\n",
    "    optimal_weights.append(alphas[index])\n",
    "    print('Lambda: {} | Optimal Weight: {} | Minimum: {}'.format(lams[i],alphas[index],np.min(lambda_)))\n",
    "    alpha_list.append(np.min(lambda_))\n",
    "    i+=1\n",
    "plt.plot([0,0.1,0.2,0.3,0.4,0.5,0.6,0.7,0.8,0.9,1],alpha_list,marker = 'o')\n",
    "plt.title('Figure 5')\n",
    "plt.xlabel('λ')\n",
    "plt.ylabel('Error')"
   ]
  }
 ],
 "metadata": {
  "kernelspec": {
   "display_name": "Python 3 (ipykernel)",
   "language": "python",
   "name": "python3"
  },
  "language_info": {
   "codemirror_mode": {
    "name": "ipython",
    "version": 3
   },
   "file_extension": ".py",
   "mimetype": "text/x-python",
   "name": "python",
   "nbconvert_exporter": "python",
   "pygments_lexer": "ipython3",
   "version": "3.8.5"
  }
 },
 "nbformat": 4,
 "nbformat_minor": 5
}
